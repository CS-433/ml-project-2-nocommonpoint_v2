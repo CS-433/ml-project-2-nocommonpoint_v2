{
 "cells": [
  {
   "cell_type": "code",
   "execution_count": null,
   "metadata": {},
   "outputs": [],
   "source": [
    "# (don’t remove those not in PHQ9)\n",
    "# Also, maybe use the std. instead of just the mean for features\n",
    "# Maybe apply feature selection:\n",
    "#    * Automatic feature selectionww \n",
    "#    * Manual: e.g. greatly reduce the number of location categories except for work and home\n"
   ]
  }
 ],
 "metadata": {
  "language_info": {
   "name": "python"
  },
  "orig_nbformat": 4
 },
 "nbformat": 4,
 "nbformat_minor": 2
}
